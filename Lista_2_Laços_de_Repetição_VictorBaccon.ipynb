{
  "nbformat": 4,
  "nbformat_minor": 0,
  "metadata": {
    "colab": {
      "provenance": [],
      "include_colab_link": true
    },
    "kernelspec": {
      "name": "python3",
      "display_name": "Python 3"
    },
    "language_info": {
      "name": "python"
    }
  },
  "cells": [
    {
      "cell_type": "markdown",
      "metadata": {
        "id": "view-in-github",
        "colab_type": "text"
      },
      "source": [
        "<a href=\"https://colab.research.google.com/github/VictorTheBest259/Estruturas_de_Repeticao_e_Condicionais_Victor_Baccon/blob/main/Lista_2_La%C3%A7os_de_Repeti%C3%A7%C3%A3o_VictorBaccon.ipynb\" target=\"_parent\"><img src=\"https://colab.research.google.com/assets/colab-badge.svg\" alt=\"Open In Colab\"/></a>"
      ]
    },
    {
      "cell_type": "markdown",
      "source": [
        "1- Faça um programa que peça uma nota, entre zero e dez. Mostre uma mensagem caso o valor seja inválido e continue pedindo até que o usuário informe um valor válido."
      ],
      "metadata": {
        "id": "4xtRGDIMbF0z"
      }
    },
    {
      "cell_type": "code",
      "execution_count": null,
      "metadata": {
        "id": "nWgB0lvZa5xh"
      },
      "outputs": [],
      "source": [
        "#O valor da nota\n",
        "nota = 2\n",
        "\n",
        "#A caixa de entrada de valor inicial\n",
        "num = int(input('Digite uma nota entre 0 e 10: '))\n",
        "\n",
        "#Laço de Repetição até o valor ser igual a da variável nota\n",
        "while num != nota:\n",
        "  print('\\nVocê errou! Tente outro número!')\n",
        "  num = int(input('Digite uma nota entre 0 e 10: '))\n",
        "\n",
        "print(\"\\nVocê Acertou! Programa finalizado...\")"
      ]
    },
    {
      "cell_type": "markdown",
      "source": [
        "2- Faça um programa que leia um nome de usuário e a sua senha e não aceite a senha igual ao nome do usuário, mostrando uma mensagem de erro e voltando a pedir as informações."
      ],
      "metadata": {
        "id": "RIejwl4mbK7z"
      }
    },
    {
      "cell_type": "code",
      "source": [
        "nome = input('Digite o Nome de Usuário: ')\n",
        "senha = input('Digite sua Senha: ')\n",
        "\n",
        "while senha == nome:\n",
        "  print('\\nA senha não pode ser igual ao nome de Usuário! Tente novamente.')\n",
        "  nome = input('Digite o Nome de Usuário: ')\n",
        "  senha = input('Digite sua Senha: ')\n",
        "\n",
        "print('\\nCadastro Feito com Sucesso!')\n",
        "print('Nome: {}'.format(nome))\n",
        "print('Senha: {}'.format(senha))"
      ],
      "metadata": {
        "id": "QVwlvuQDbREK"
      },
      "execution_count": null,
      "outputs": []
    },
    {
      "cell_type": "markdown",
      "source": [
        "3- Faça um programa que leia e valide as seguintes informações:\n",
        "*   Nome: maior que 3 caracteres;\n",
        "*   Idade: entre 0 e 150;\n",
        "*   Salário: maior que zero;\n",
        "*   Sexo: 'f' ou 'm';\n",
        "*   Estado Civil: 's', 'c', 'v', 'd';\n",
        "\n",
        "**Use a função `len(string)` para saber o tamanho de um texto (número de caracteres).**"
      ],
      "metadata": {
        "id": "IjjosQBibRzj"
      }
    },
    {
      "cell_type": "code",
      "source": [
        "nome = input(\"Digite seu Nome: \")\n",
        "\n",
        "#Estrutura para validar o nome\n",
        "while len(nome) <= 3:\n",
        "  print('Erro! O nome deve possuir mais de 3 Caracteres.')\n",
        "  nome = input(\"\\nDigite seu Nome: \")\n",
        "\n",
        "#Estrutura para validar a idade\n",
        "idade = int(input('\\nDigite sua idade: '))\n",
        "\n",
        "while idade < 0 or idade > 150:\n",
        "  print('Erro! A idade deve ser entre 0 e 150 anos.')\n",
        "  idade = int(input('\\nDigite sua idade: '))\n",
        "\n",
        "#Estrutura para validar o salario\n",
        "salario = float(input('\\nDigite seu Salário: R$'))\n",
        "\n",
        "while salario <= 0:\n",
        "  print('Erro! Seu Salário deve ser maior que 0.')\n",
        "  salario = float(input('\\nDigite seu Salário: R$'))\n",
        "\n",
        "#Estrutura para validar o sexo\n",
        "sexo = input('\\nDigite seu sexo, se é masculino ou feminino (m/f): ').lower()\n",
        "\n",
        "while sexo not in ['m','f']:\n",
        "  print(\"Erro: O sexo deve ser 'f' ou 'm'.\")\n",
        "  sexo = input('\\nDigite seu sexo, se é masculino ou feminino (m/f): ').lower()\n",
        "\n",
        "#Estrutura para validar o Estado Civil\n",
        "estado_civil = input('\\nDigite seu estado civil (s/c/v/d): ').lower()\n",
        "\n",
        "while estado_civil not in ['s', 'c', 'v', 'd']:\n",
        "  print(\"Erro: O estado civil deve ser 's', 'c', 'v' ou 'd'.\")\n",
        "  estado_civil = input('\\nDigite seu estado civil (s/c/v/d): ').lower()\n",
        "\n",
        "#Confimação dos Dados Inseridos (não necessário)\n",
        "print('\\nDados Válidados com Sucesso!')\n",
        "print(\"Nome:\", nome)\n",
        "print(\"Idade:\", idade)\n",
        "print(\"Salário: R$\", salario)\n",
        "print(\"Sexo:\", sexo)\n",
        "print(\"Estado Civil:\", estado_civil)"
      ],
      "metadata": {
        "id": "SZQsLLeMbtDS"
      },
      "execution_count": null,
      "outputs": []
    },
    {
      "cell_type": "markdown",
      "source": [
        "4- Supondo que a população de um país A seja da ordem de 80000 habitantes com uma taxa anual de crescimento de 3% e que a população de B seja 200000 habitantes com uma taxa de crescimento de 1.5%. Faça um programa que calcule e escreva o número de anos necessários para que a população do país A ultrapasse ou iguale a população do país B, mantidas as taxas de crescimento."
      ],
      "metadata": {
        "id": "yzuu9ZKubt1L"
      }
    },
    {
      "cell_type": "code",
      "source": [
        "#informa os valores iniciais de cada país e o anos\n",
        "pais_a = 80000\n",
        "pais_b = 200000\n",
        "anos = 0\n",
        "\n",
        "#Estrtura que possibilita a contagem do tempo necessario para o que foi requisitado\n",
        "while pais_a <= pais_b:\n",
        "  pais_a = pais_a + (pais_a * 3 / 100)\n",
        "  pais_b = pais_b + (pais_b * 1.5 / 100)\n",
        "  anos = anos + 1\n",
        "\n",
        "print('O País A levou cerca de',anos,' Anos para ultrapassar o País B em População.')"
      ],
      "metadata": {
        "id": "n_mSFkoqbzhb"
      },
      "execution_count": null,
      "outputs": []
    },
    {
      "cell_type": "markdown",
      "source": [
        "5- Altere o programa anterior permitindo ao usuário informar as populações e as taxas de crescimento iniciais. Valide a entrada e permita repetir a operação."
      ],
      "metadata": {
        "id": "6S1XgUIZb0ty"
      }
    },
    {
      "cell_type": "code",
      "source": [
        "#Campo para o Usuário colocar as informações\n",
        "pais_a = float(input('\\nDigite a População Inicial do País A: '))\n",
        "taxa_a = float(input('Digite a Taxa de Crescimento Anual do País A em %: '))\n",
        "pais_b = float(input('\\nDigite a População Inicial do País B: '))\n",
        "taxa_b = float(input('Digite a Taxa de Crescimento Anual do País B em %: '))\n",
        "anos = 0\n",
        "\n",
        "while pais_a <= pais_b:\n",
        "  pais_a += pais_a * taxa_a / 100\n",
        "  pais_b += pais_b * taxa_b / 100\n",
        "  anos += 1\n",
        "\n",
        "print('\\nO País A levou cerca de',anos,' Anos para ultrapassar o País B em População.')\n",
        "\n",
        "continuar = input(\"\\nDeseja fazer outra operação? (sim/não): \").lower()\n",
        "while continuar.lower() == \"sim\":\n",
        "  pais_a = float(input('Digite a População Inicial do País A: '))\n",
        "  taxa_a = float(input('Digite a Taxa de Crescimento Anual do País A em %: '))\n",
        "  pais_b = float(input('\\nDigite a População Inicial do País B: '))\n",
        "  taxa_b = float(input('Digite a Taxa de Crescimento Anual do País B em %: '))\n",
        "  anos = 0\n",
        "\n",
        "  while pais_a <= pais_b:\n",
        "    pais_a += pais_a * taxa_a / 100\n",
        "    pais_b += pais_b * taxa_b / 100\n",
        "    anos += 1\n",
        "\n",
        "  print('\\nO País A levou cerca de',anos,' Anos para ultrapassar o País B em População.')\n",
        "  continuar = input(\"\\nDeseja fazer outra operação? (sim/não): \").lower()\n",
        "print(\"\\nPrograma finalizado.\")"
      ],
      "metadata": {
        "id": "TdSmj33rcPLS"
      },
      "execution_count": null,
      "outputs": []
    },
    {
      "cell_type": "markdown",
      "source": [
        "6- Faça um programa que leia 5 números e informe a soma e a média dos números."
      ],
      "metadata": {
        "id": "h6Tf29KBcPxz"
      }
    },
    {
      "cell_type": "code",
      "source": [
        "numeros = []\n",
        "soma = 0\n",
        "\n",
        "for i in range(5):\n",
        "  numero = float(input(\"Digite o {}º número: \".format(i + 1)))\n",
        "  numeros.append(numero)\n",
        "  soma += numero\n",
        "\n",
        "#Faz a conta da média\n",
        "media = soma / 5\n",
        "\n",
        "# Exibe a soma e a média\n",
        "print(\"\\nA soma dos números é:\", soma)\n",
        "print(\"A média dos números é:\", media)"
      ],
      "metadata": {
        "id": "bo9EBxbfcXr5",
        "colab": {
          "base_uri": "https://localhost:8080/"
        },
        "outputId": "8b71883d-c7e5-4ace-d7e7-9403cb0d7ded"
      },
      "execution_count": null,
      "outputs": [
        {
          "output_type": "stream",
          "name": "stdout",
          "text": [
            "Digite o 1º número: 5\n",
            "Digite o 2º número: 5\n",
            "Digite o 3º número: 5\n",
            "Digite o 4º número: 5\n",
            "Digite o 5º número: 5\n",
            "\n",
            "A soma dos números é: 25.0\n",
            "A média dos números é: 5.0\n"
          ]
        }
      ]
    },
    {
      "cell_type": "markdown",
      "source": [
        "7- Faça um programa que receba dois números inteiros e gere os números inteiros que estão no intervalo compreendido por eles."
      ],
      "metadata": {
        "id": "vlg_Q0cGcYXS"
      }
    },
    {
      "cell_type": "code",
      "source": [
        "numero1 = int(input(\"Digite o primeiro número inteiro: \"))\n",
        "numero2 = int(input(\"Digite o segundo número inteiro: \"))\n",
        "\n",
        "inicio = min(numero1, numero2)\n",
        "fim = max(numero1, numero2)\n",
        "\n",
        "intervalo = []\n",
        "for i in range(inicio + 1, fim):\n",
        "  intervalo.append(i)\n",
        "\n",
        "print('Os Números no intervalo entre',numero1,'e',numero2, 'são:',intervalo)"
      ],
      "metadata": {
        "id": "QDjbRI91cdY6",
        "colab": {
          "base_uri": "https://localhost:8080/"
        },
        "outputId": "f4d38570-6524-4c09-8e9e-225194a0ed3e"
      },
      "execution_count": null,
      "outputs": [
        {
          "output_type": "stream",
          "name": "stdout",
          "text": [
            "Digite o primeiro número inteiro: 20\n",
            "Digite o segundo número inteiro: 25\n",
            "Os Números no intervalo entre 20 e 25 são: [21, 22, 23, 24]\n"
          ]
        }
      ]
    },
    {
      "cell_type": "markdown",
      "source": [
        "8- Altere o programa anterior para mostrar no final a soma dos números."
      ],
      "metadata": {
        "id": "x19NxgY8cd-6"
      }
    },
    {
      "cell_type": "code",
      "source": [
        "numero1 = int(input(\"Digite o primeiro número inteiro: \"))\n",
        "numero2 = int(input(\"Digite o segundo número inteiro: \"))\n",
        "\n",
        "inicio = min(numero1, numero2)\n",
        "fim = max(numero1, numero2)\n",
        "\n",
        "intervalo = []\n",
        "for i in range(inicio + 1, fim):\n",
        "  intervalo.append(i)\n",
        "\n",
        "soma = sum(intervalo)\n",
        "\n",
        "print(soma)"
      ],
      "metadata": {
        "id": "BAJ0KSvVciHy"
      },
      "execution_count": null,
      "outputs": []
    },
    {
      "cell_type": "markdown",
      "source": [
        "9- Faça um programa que peça para n pessoas a sua idade, ao final o programa devera verificar se a média de idade da turma varia entre 0 e 25,26 e 60 e maior que 60; e então, dizer se a turma é jovem, adulta ou idosa, conforme a média calculada."
      ],
      "metadata": {
        "id": "7RbW-aJeci3q"
      }
    },
    {
      "cell_type": "code",
      "source": [
        "qtde_pessoas = int(input('Digite a quantidade de pessoas: '))\n",
        "\n",
        "num = []\n",
        "for i in range(qtde_pessoas):\n",
        "  numero = float(input(\"Digite a {}º idade: \".format(i + 1)))\n",
        "  num.append(numero)\n",
        "\n",
        "media = sum(num) / qtde_pessoas\n",
        "\n",
        "if media >= 0 and media <= 25:\n",
        "  print('A turma é jovem!')\n",
        "elif media > 25 and media <= 60:\n",
        "  print('A turma é adulta!')\n",
        "else:\n",
        "  print('a turma é velha!')\n",
        "\n",
        "print('\\nPrograma Finalizado...')"
      ],
      "metadata": {
        "id": "wFZ0d96Wc0Oy",
        "colab": {
          "base_uri": "https://localhost:8080/"
        },
        "outputId": "0ad888a1-7d7e-4ff3-a9ed-05694f8339c9"
      },
      "execution_count": 7,
      "outputs": [
        {
          "output_type": "stream",
          "name": "stdout",
          "text": [
            "Digite a quantidade de pessoas: 2\n",
            "Digite a 1º idade: 35\n",
            "Digite a 2º idade: 35\n",
            "A turma é adulta!\n",
            "\n",
            "Programa Finalizado...\n"
          ]
        }
      ]
    },
    {
      "cell_type": "markdown",
      "source": [
        "10- Numa eleição existem três candidatos. Faça um programa que peça o número total de eleitores. Peça para cada eleitor votar e ao final mostrar o número de votos de cada candidato."
      ],
      "metadata": {
        "id": "NWJ9HcrRc1Qh"
      }
    },
    {
      "cell_type": "code",
      "source": [
        "def main():\n",
        "    num_eleitores = int(input(\"Digite o número total de eleitores: \"))\n",
        "\n",
        "    # Inicializa o contador de votos para cada candidato\n",
        "    votos_candidato1 = 0\n",
        "    votos_candidato2 = 0\n",
        "    votos_candidato3 = 0\n",
        "\n",
        "    # Loop para cada eleitor votar\n",
        "    for eleitor in range(1, num_eleitores + 1):\n",
        "        print(\"Eleitor\", eleitor)\n",
        "        voto = int(input(\"Digite o número do candidato (1, 2 ou 3): \"))\n",
        "\n",
        "        # Verifica o voto do eleitor e incrementa o contador correspondente\n",
        "        if voto == 1:\n",
        "            votos_candidato1 += 1\n",
        "        elif voto == 2:\n",
        "            votos_candidato2 += 1\n",
        "        elif voto == 3:\n",
        "            votos_candidato3 += 1\n",
        "        else:\n",
        "            print(\"Voto inválido!\")\n",
        "\n",
        "    # Exibe o número de votos de cada candidato\n",
        "    print(\"\\nResultado da eleição:\")\n",
        "    print(\"Candidato 1:\", votos_candidato1, \"votos\")\n",
        "    print(\"Candidato 2:\", votos_candidato2, \"votos\")\n",
        "    print(\"Candidato 3:\", votos_candidato3, \"votos\")\n",
        "\n",
        "if __name__ == \"__main__\":\n",
        "    main()"
      ],
      "metadata": {
        "id": "0p-RQr8Xc68K"
      },
      "execution_count": null,
      "outputs": []
    }
  ]
}