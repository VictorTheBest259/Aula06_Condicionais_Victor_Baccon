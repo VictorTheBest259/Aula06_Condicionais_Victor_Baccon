{
  "nbformat": 4,
  "nbformat_minor": 0,
  "metadata": {
    "colab": {
      "provenance": [],
      "authorship_tag": "ABX9TyO4bTdKS5psKZkVxptjG0BC",
      "include_colab_link": true
    },
    "kernelspec": {
      "name": "python3",
      "display_name": "Python 3"
    },
    "language_info": {
      "name": "python"
    }
  },
  "cells": [
    {
      "cell_type": "markdown",
      "metadata": {
        "id": "view-in-github",
        "colab_type": "text"
      },
      "source": [
        "<a href=\"https://colab.research.google.com/github/VictorTheBest259/FATEC_1SemestreDSM_VictorBaccon/blob/main/P2_Algoritmos_VictorBaccon.ipynb\" target=\"_parent\"><img src=\"https://colab.research.google.com/assets/colab-badge.svg\" alt=\"Open In Colab\"/></a>"
      ]
    },
    {
      "cell_type": "markdown",
      "source": [
        "1- (2,5 ptos)João Papo-de-Pescador, homem de bem, comprou um microcomputador para controlar o rendimento diário de seu trabalho. Toda vez que ele traz um peso de peixes maior que o estabelecido pelo regulamento de pesca do estado de São Paulo (50 quilos) deve pagar umamulta de R$ 4,00 por quilo excedente. João precisa que você faça um programa que leia a variável peso (peso de peixes) e calcule o excesso. Gravar na variável excesso a quantidade de quilos além do limite e na variável multa o valor da multa que João deverá pagar. Imprima os dados do programa com as mensagens adequadas."
      ],
      "metadata": {
        "id": "bSrJrtHQXIOC"
      }
    },
    {
      "cell_type": "code",
      "execution_count": null,
      "metadata": {
        "id": "zfxlkA3WW3l6"
      },
      "outputs": [],
      "source": [
        "peso_peixe = float(input('Digite o total do peso em Kg dos peixes pegos: '))\n",
        "\n",
        "if (peso_peixe > 50):\n",
        "  print('\\nVocê excedeu o limite de peso de 50kg imposto pelo regulamento. você pagará 4 reais a mais por cada kg.')\n",
        "  excesso = peso_peixe - 50\n",
        "  total = excesso * 4\n",
        "  print(\"\\nA quantidade de kg que excedeu o limite do regulamento é de: \", excesso,'Kg.')\n",
        "  print('\\nO valor da multa que você irá pagar é de: R${:.2f}'.format(total))\n",
        "else:\n",
        "  print('\\nVocê não excedeu o limite de peso de 50kg imposto pelo regulamento.')"
      ]
    },
    {
      "cell_type": "markdown",
      "source": [
        "2- (2,5 ptos)Escreva um algoritmo que calcule a média dos números digitados se eles forem pares. Termine a leitura se o usuário digitar 0."
      ],
      "metadata": {
        "id": "wHBPKSmpXNJ7"
      }
    },
    {
      "cell_type": "code",
      "source": [
        "soma = 0\n",
        "cont = 0\n",
        "\n",
        "while True:\n",
        "  num = int(input('Digite um número (0 para terminar a leitura): '))\n",
        "  if num == 0:\n",
        "    break\n",
        "  if num % 2 == 0:\n",
        "    soma += num\n",
        "    cont += 1\n",
        "if cont > 0:\n",
        "  media = soma / cont\n",
        "  print('\\nA média dos números pares digitados é: ', media)\n",
        "else:\n",
        "  print('\\nNenhum número par foi digitado.')"
      ],
      "metadata": {
        "colab": {
          "base_uri": "https://localhost:8080/"
        },
        "id": "_QjfxifHiVEt",
        "outputId": "cd995fce-0fe5-4291-ece9-c1b36b08081a"
      },
      "execution_count": 22,
      "outputs": [
        {
          "output_type": "stream",
          "name": "stdout",
          "text": [
            "Digite um número (0 para terminar a leitura): 2\n",
            "Digite um número (0 para terminar a leitura): 2\n",
            "Digite um número (0 para terminar a leitura): 4\n",
            "Digite um número (0 para terminar a leitura): 4\n",
            "Digite um número (0 para terminar a leitura): 0\n",
            "\n",
            "A média dos números pares digitados é:  3.0\n"
          ]
        }
      ]
    },
    {
      "cell_type": "markdown",
      "source": [
        "3- (2,5 ptos)Supondo que a população de um país A seja da ordem de 80000 habitantes com uma taxa anual de crescimento de 3% e que a população de B seja 200000 habitantes com uma taxa  de  crescimento  de  1.5%.  Faça  um  programa  que  calcule  e  escreva  o  número  de  anos necessários para que a população do país A ultrapasse ou iguale a população do país B, mantidas as taxas de crescimento."
      ],
      "metadata": {
        "id": "M2XDHunrXTE_"
      }
    },
    {
      "cell_type": "code",
      "source": [
        "pais_a = 80000\n",
        "pais_b = 200000\n",
        "anos = 0\n",
        "\n",
        "while pais_a <= pais_b:\n",
        "  pais_a = pais_a + (pais_a * 3 / 100)\n",
        "  pais_b = pais_b + (pais_b * 1.5 / 100)\n",
        "  anos = anos + 1\n",
        "\n",
        "print('O País A levou cerca de',anos,' Anos para ultrapassar o País B em População.')"
      ],
      "metadata": {
        "colab": {
          "base_uri": "https://localhost:8080/"
        },
        "id": "_4bZQjw4XXVf",
        "outputId": "41bc0162-97f1-48d5-b4d0-135e49efe88e"
      },
      "execution_count": 14,
      "outputs": [
        {
          "output_type": "stream",
          "name": "stdout",
          "text": [
            "O País A levou cerca de 63  Anos para ultrapassar o País B em População.\n"
          ]
        }
      ]
    },
    {
      "cell_type": "markdown",
      "source": [
        "4-(2,5ptos)Escreva um programa que leia um valor correspondente ao número de jogadores de um time de vôlei. O programa deve solicitar a altura de cada um dos jogadores e ao final informar a altura média do time."
      ],
      "metadata": {
        "id": "StgsusuSXfe_"
      }
    },
    {
      "cell_type": "code",
      "source": [
        "num_jogadores = 12\n",
        "altura_total = 0\n",
        "\n",
        "for i in range(num_jogadores):\n",
        "  altura = float(input('Digite a altura do jogador {} em metros: '.format(i + 1)))\n",
        "  altura_total += altura\n",
        "\n",
        "altura_media = altura_total / num_jogadores\n",
        "\n",
        "print('\\nA altura média do time de vôlei é de {:.2f} metros.'.format(altura_media))"
      ],
      "metadata": {
        "colab": {
          "base_uri": "https://localhost:8080/"
        },
        "id": "3g-Q-y7WXv9V",
        "outputId": "d9cbe883-5083-4eae-91fd-e92c682a865d"
      },
      "execution_count": 17,
      "outputs": [
        {
          "output_type": "stream",
          "name": "stdout",
          "text": [
            "Digite a altura do jogador 1 em metros: 1.00\n",
            "Digite a altura do jogador 2 em metros: 2.00\n",
            "Digite a altura do jogador 3 em metros: 1.50\n",
            "Digite a altura do jogador 4 em metros: 1.00\n",
            "Digite a altura do jogador 5 em metros: 1.00\n",
            "Digite a altura do jogador 6 em metros: 2.00\n",
            "Digite a altura do jogador 7 em metros: 2.00\n",
            "Digite a altura do jogador 8 em metros: 1.50\n",
            "Digite a altura do jogador 9 em metros: 1.50\n",
            "Digite a altura do jogador 10 em metros: 1.75\n",
            "Digite a altura do jogador 11 em metros: 1.25\n",
            "Digite a altura do jogador 12 em metros: 1.50\n",
            "\n",
            "A altura média do time de vôlei é de 1.50 metros.\n"
          ]
        }
      ]
    }
  ]
}